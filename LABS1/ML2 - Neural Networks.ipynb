{
 "cells": [
  {
   "cell_type": "markdown",
   "metadata": {},
   "source": []
  },
  {
   "cell_type": "markdown",
   "metadata": {},
   "source": [
    "# Machine Learning 2 - Neural Networks\n",
    "\n",
    "In this lab, we will use simple Neural Networks to classify the images from the simplified CIFAR-10 dataset. We will compare our results with those obtained with Decision Trees and Random Forests.\n",
    "\n",
    "Lab objectives\n",
    "----\n",
    "* Classification with neural networks\n",
    "* Influence of hidden layers and of the selected features on the classifier results"
   ]
  },
  {
   "cell_type": "code",
   "execution_count": 1,
   "metadata": {},
   "outputs": [
    {
     "name": "stdout",
     "output_type": "stream",
     "text": [
      "Pre-loading training data\n",
      "Pre-loading test data\n"
     ]
    }
   ],
   "source": [
    "from lab_tools import CIFAR10, evaluate_classifier, get_hog_image\n",
    "        \n",
    "dataset = CIFAR10('./CIFAR10')"
   ]
  },
  {
   "cell_type": "markdown",
   "metadata": {},
   "source": [
    "We will use the *[Multi-Layer Perceptron](http://scikit-learn.org/stable/modules/generated/sklearn.neural_network.MLPClassifier.html#sklearn.neural_network.MLPClassifier)* implementation from scikit-learn, which is only available since version 0.18. You can check which version of scikit-learn is installed by executing this :"
   ]
  },
  {
   "cell_type": "code",
   "execution_count": 2,
   "metadata": {},
   "outputs": [
    {
     "name": "stdout",
     "output_type": "stream",
     "text": [
      "0.19.2\n"
     ]
    }
   ],
   "source": [
    "import sklearn\n",
    "print(sklearn.__version__)"
   ]
  },
  {
   "cell_type": "markdown",
   "metadata": {},
   "source": [
    "If you have version 0.17 or older, please update your scikit-learn installation (for instance, with the command *pip install scikit-learn==0.19.1* in the terminal or Anaconda prompt)"
   ]
  },
  {
   "cell_type": "markdown",
   "metadata": {},
   "source": [
    "## !Normalize the dataset!"
   ]
  },
  {
   "cell_type": "code",
   "execution_count": 14,
   "metadata": {},
   "outputs": [],
   "source": [
    "import numpy as np\n",
    "\n",
    "def normalize(data):\n",
    "    mean = np.mean(data, axis=0)\n",
    "    std = np.std(data,axis=0)\n",
    "    data = (data - mean)/std\n",
    "    return data, mean, std"
   ]
  },
  {
   "cell_type": "markdown",
   "metadata": {},
   "source": [
    "## Build a simple neural network\n",
    "\n",
    "* Using the [MLPClassifier](http://scikit-learn.org/stable/modules/generated/sklearn.neural_network.MLPClassifier.html) from scikit-learn, create a neural network with a single hidden layer.\n",
    "* Train this network on the CIFAR dataset.\n",
    "* Using cross-validation, try to find the best possible parameters."
   ]
  },
  {
   "cell_type": "code",
   "execution_count": 4,
   "metadata": {},
   "outputs": [],
   "source": [
    "from sklearn.neural_network import MLPClassifier\n",
    "\n",
    "mlp_classifier = MLPClassifier(hidden_layer_sizes=(100,), activation=\"relu\", learning_rate_init=0.001, solver=\"adam\", random_state=33, alpha=1e-4, tol=1e-3)"
   ]
  },
  {
   "cell_type": "code",
   "execution_count": 5,
   "metadata": {},
   "outputs": [],
   "source": [
    "from sklearn.model_selection import StratifiedKFold\n",
    "\n",
    "kf = StratifiedKFold(5, random_state=33)\n",
    "\n",
    "total_score = 0\n",
    "total_conf = 0\n",
    "\n",
    "for train,test in kf.split(dataset.train['hog'], dataset.train['labels']):\n",
    "    train_x, mean, std = normalize(dataset.train['hog'][train])\n",
    "    train_y = dataset.train['labels'][train]\n",
    "    mlp_classifier = mlp_classifier.fit(train_x, train_y)\n",
    "    \n",
    "    test_x = (dataset.train['hog'][test]-mean)/std\n",
    "    test_y = dataset.train['labels'][test]\n",
    "    accuracy, conf = evaluate_classifier(mlp_classifier, test_x, test_y)\n",
    "    \n",
    "    total_score = total_score + accuracy\n",
    "    total_conf = total_conf + conf"
   ]
  },
  {
   "cell_type": "code",
   "execution_count": 6,
   "metadata": {},
   "outputs": [
    {
     "name": "stdout",
     "output_type": "stream",
     "text": [
      "Validation accuracy: 79.63 %\n",
      "Confusion matrix:\n",
      "[[812.6 125.2  41.2]\n",
      " [128.4 745.6 128. ]\n",
      " [ 59.  129.2 830.8]]\n"
     ]
    }
   ],
   "source": [
    "total_score = total_score/5\n",
    "total_conf = total_conf/5\n",
    "\n",
    "print(\"Validation accuracy: %.2f %%\"%total_score)\n",
    "print(\"Confusion matrix:\")\n",
    "print(total_conf)"
   ]
  },
  {
   "cell_type": "markdown",
   "metadata": {},
   "source": [
    "## Add hidden layers to the network.\n",
    "\n",
    "Try to change the structure of the network by adding hidden layers. Using cross-validation, try to find the best architecture for your network."
   ]
  },
  {
   "cell_type": "markdown",
   "metadata": {},
   "source": [
    "## Test for different learning rate :"
   ]
  },
  {
   "cell_type": "code",
   "execution_count": 17,
   "metadata": {},
   "outputs": [],
   "source": [
    "k=5"
   ]
  },
  {
   "cell_type": "code",
   "execution_count": 22,
   "metadata": {},
   "outputs": [],
   "source": [
    "kf = StratifiedKFold(k, random_state=33)\n",
    "\n",
    "lr_list = [1e-4,1e-5]\n",
    "total_score = {}\n",
    "total_conf = {}\n",
    "\n",
    "for lr in lr_list:\n",
    "    mlp_classifier = MLPClassifier(hidden_layer_sizes=(100,), activation=\"relu\", learning_rate_init=lr, solver=\"adam\", random_state=33, alpha=1e-4, tol=1e-4)\n",
    "    train_x, mean, std = normalize(dataset.train['hog'][train])\n",
    "    train_y = dataset.train['labels'][train]\n",
    "    mlp_classifier = mlp_classifier.fit(train_x, train_y)\n",
    "\n",
    "    test_x = (dataset.train['hog'][test]-mean)/std\n",
    "    test_y = dataset.train['labels'][test]\n",
    "    accuracy, conf = evaluate_classifier(mlp_classifier, test_x, test_y)\n",
    "\n",
    "    total_score[lr] = accuracy\n",
    "    total_conf[lr] = conf"
   ]
  },
  {
   "cell_type": "code",
   "execution_count": 23,
   "metadata": {
    "scrolled": true
   },
   "outputs": [
    {
     "name": "stdout",
     "output_type": "stream",
     "text": [
      "Validation accuracy for learning rate of 0.0001 : 79.40 %\n",
      "Confusion matrix for learning rate of 0.0001 :\n",
      "[[833 131  50]\n",
      " [123 739 140]\n",
      " [ 44 130 810]]\n",
      "Validation accuracy for learning rate of 1e-05 : 74.70 %\n",
      "Confusion matrix for learning rate of 1e-05 :\n",
      "[[804 153  81]\n",
      " [131 678 160]\n",
      " [ 65 169 759]]\n"
     ]
    }
   ],
   "source": [
    "for key in total_score.keys():\n",
    "    print(\"Validation accuracy for learning rate of\", key, \": %.2f %%\"%total_score[key])\n",
    "    print(\"Confusion matrix for learning rate of\", key, \":\")\n",
    "    print(total_conf[key])"
   ]
  },
  {
   "cell_type": "markdown",
   "metadata": {},
   "source": [
    "## Test for different NN length :"
   ]
  },
  {
   "cell_type": "code",
   "execution_count": 75,
   "metadata": {},
   "outputs": [],
   "source": [
    "kf = StratifiedKFold(k, random_state=33)\n",
    "\n",
    "param_list = [(100,),(100,100,),(100,100,100,)]\n",
    "total_score = {}\n",
    "total_conf = {}\n",
    "\n",
    "for param in param_list:\n",
    "    mlp_classifier = MLPClassifier(hidden_layer_sizes=(100,), activation=\"relu\", learning_rate_init=param, solver=\"adam\", random_state=33, alpha=1e-4, tol=1e-4)\n",
    "    train_x, mean, std = normalize(dataset.train['hog'][train])\n",
    "    train_y = dataset.train['labels'][train]\n",
    "    mlp_classifier = mlp_classifier.fit(train_x, train_y)\n",
    "\n",
    "    test_x = (dataset.train['hog'][test]-mean)/std\n",
    "    test_y = dataset.train['labels'][test]\n",
    "    accuracy, conf = evaluate_classifier(mlp_classifier, test_x, test_y)\n",
    "\n",
    "    total_score[param] = accuracy\n",
    "    total_conf[param] = conf"
   ]
  },
  {
   "cell_type": "code",
   "execution_count": 76,
   "metadata": {
    "scrolled": true
   },
   "outputs": [
    {
     "name": "stdout",
     "output_type": "stream",
     "text": [
      "Validation accuracy for learning rate of (100,) : 75.20 %\n",
      "Confusion matrix for learning rate of (100,) :\n",
      "[[790.2 157.8  66. ]\n",
      " [145.6 678.8 147. ]\n",
      " [ 64.2 163.4 787. ]]\n",
      "Validation accuracy for learning rate of (100, 100) : 76.37 %\n",
      "Confusion matrix for learning rate of (100, 100) :\n",
      "[[793.2 141.4  53.2]\n",
      " [145.2 706.2 155.2]\n",
      " [ 61.6 152.4 791.6]]\n",
      "Validation accuracy for learning rate of (100, 100, 100) : 76.90 %\n",
      "Confusion matrix for learning rate of (100, 100, 100) :\n",
      "[[798.  141.6  54. ]\n",
      " [141.8 710.  147. ]\n",
      " [ 60.2 148.4 799. ]]\n"
     ]
    }
   ],
   "source": [
    "for key in total_score.keys():\n",
    "    print(\"Validation accuracy for learning rate of\", key, \": %.2f %%\"%total_score[key])\n",
    "    print(\"Confusion matrix for learning rate of\", key, \":\")\n",
    "    print(total_conf[key])"
   ]
  },
  {
   "cell_type": "markdown",
   "metadata": {},
   "source": [
    "## Test for different size of layers :"
   ]
  },
  {
   "cell_type": "code",
   "execution_count": 28,
   "metadata": {},
   "outputs": [],
   "source": [
    "kf = StratifiedKFold(k, random_state=33)\n",
    "\n",
    "param_list = [(100,1000)]\n",
    "total_score = {}\n",
    "total_conf = {}\n",
    "\n",
    "for param in param_list:\n",
    "    mlp_classifier = MLPClassifier(hidden_layer_sizes=param, activation=\"relu\", learning_rate_init=1e-4, solver=\"adam\", random_state=33, alpha=1e-4, tol=1e-4)\n",
    "    train_x, mean, std = normalize(dataset.train['hog'][train])\n",
    "    train_y = dataset.train['labels'][train]\n",
    "    mlp_classifier = mlp_classifier.fit(train_x, train_y)\n",
    "\n",
    "    test_x = (dataset.train['hog'][test]-mean)/std\n",
    "    test_y = dataset.train['labels'][test]\n",
    "    accuracy, conf = evaluate_classifier(mlp_classifier, test_x, test_y)\n",
    "\n",
    "    total_score[param] = accuracy\n",
    "    total_conf[param] = conf"
   ]
  },
  {
   "cell_type": "code",
   "execution_count": 27,
   "metadata": {
    "scrolled": true
   },
   "outputs": [
    {
     "name": "stdout",
     "output_type": "stream",
     "text": [
      "Validation accuracy for learning rate of (100, 1000) : 78.50 %\n",
      "Confusion matrix for learning rate of (100, 1000) :\n",
      "[[828 140  51]\n",
      " [130 725 147]\n",
      " [ 42 135 802]]\n"
     ]
    }
   ],
   "source": [
    "for key in total_score.keys():\n",
    "    print(\"Validation accuracy for learning rate of\", key, \": %.2f %%\"%total_score[key])\n",
    "    print(\"Confusion matrix for learning rate of\", key, \":\")\n",
    "    print(total_conf[key])"
   ]
  },
  {
   "cell_type": "markdown",
   "metadata": {},
   "source": [
    "## Test for different size of layers :"
   ]
  },
  {
   "cell_type": "code",
   "execution_count": 37,
   "metadata": {},
   "outputs": [],
   "source": [
    "kf = StratifiedKFold(k, random_state=33)\n",
    "\n",
    "param_list = [(1000,)]\n",
    "total_score = {}\n",
    "total_conf = {}\n",
    "\n",
    "for param in param_list:\n",
    "    mlp_classifier = MLPClassifier(hidden_layer_sizes=param, activation=\"relu\", learning_rate_init=1e-4, solver=\"adam\", random_state=33, alpha=1e-4, tol=1e-4)\n",
    "    train_x, mean, std = normalize(dataset.train['hog'][train])\n",
    "    train_y = dataset.train['labels'][train]\n",
    "    mlp_classifier = mlp_classifier.fit(train_x, train_y)\n",
    "\n",
    "    test_x = (dataset.train['hog'][test]-mean)/std\n",
    "    test_y = dataset.train['labels'][test]\n",
    "    accuracy, conf = evaluate_classifier(mlp_classifier, test_x, test_y)\n",
    "\n",
    "    total_score[param] = accuracy\n",
    "    total_conf[param] = conf"
   ]
  },
  {
   "cell_type": "code",
   "execution_count": 38,
   "metadata": {
    "scrolled": true
   },
   "outputs": [
    {
     "name": "stdout",
     "output_type": "stream",
     "text": [
      "Validation accuracy for learning rate of (1000,) : 81.90 %\n",
      "Confusion matrix for learning rate of (1000,) :\n",
      "[[849 116  40]\n",
      " [109 773 125]\n",
      " [ 42 111 835]]\n"
     ]
    }
   ],
   "source": [
    "for key in total_score.keys():\n",
    "    print(\"Validation accuracy for learning rate of\", key, \": %.2f %%\"%total_score[key])\n",
    "    print(\"Confusion matrix for learning rate of\", key, \":\")\n",
    "    print(total_conf[key])"
   ]
  },
  {
   "cell_type": "code",
   "execution_count": null,
   "metadata": {},
   "outputs": [],
   "source": []
  }
 ],
 "metadata": {
  "kernelspec": {
   "display_name": "Python 3",
   "language": "python",
   "name": "python3"
  },
  "language_info": {
   "codemirror_mode": {
    "name": "ipython",
    "version": 3
   },
   "file_extension": ".py",
   "mimetype": "text/x-python",
   "name": "python",
   "nbconvert_exporter": "python",
   "pygments_lexer": "ipython3",
   "version": "3.7.0"
  }
 },
 "nbformat": 4,
 "nbformat_minor": 2
}
