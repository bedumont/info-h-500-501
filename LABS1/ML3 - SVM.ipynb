{
 "cells": [
  {
   "cell_type": "markdown",
   "metadata": {},
   "source": [
    "# Machine Learning 3 - Support Vector Machines\n",
    "\n",
    "A SVM classifier builds a set of hyper-planes to try and separate the data by maximizing the distance between the borders and the data points.\n",
    "\n",
    "![SVM](http://scikit-learn.org/stable/_images/sphx_glr_plot_separating_hyperplane_0011.png \"Decision border in an SVM\")\n",
    "\n",
    "This separation is generally not possible to achieve in the original data space. Therefore, the first step of the SVM is to project the data into a high or infinite dimensions space in which this linear separation can be done. The projection can be done with linear, polynomial, or more comonly \"RBF\" kernels."
   ]
  },
  {
   "cell_type": "code",
   "execution_count": 1,
   "metadata": {},
   "outputs": [
    {
     "name": "stdout",
     "output_type": "stream",
     "text": [
      "Pre-loading training data\n",
      "Pre-loading test data\n"
     ]
    }
   ],
   "source": [
    "from lab_tools import CIFAR10, evaluate_classifier, get_hog_image\n",
    "import numpy as np\n",
    "\n",
    "dataset = CIFAR10('./CIFAR10')\n",
    "\n",
    "def normalize(data):\n",
    "    mean = np.mean(data, axis=0)\n",
    "    std = np.std(data,axis=0)\n",
    "    data = (data - mean)/std\n",
    "    return data, mean, std"
   ]
  },
  {
   "cell_type": "markdown",
   "metadata": {},
   "source": [
    "**Build a simple SVM** using [the SVC (Support Vector Classfiication) from sklearn](http://scikit-learn.org/stable/modules/generated/sklearn.svm.SVC.html#sklearn.svm.SVC). \n",
    "**Train** it on the CIFAR dataset."
   ]
  },
  {
   "cell_type": "code",
   "execution_count": 6,
   "metadata": {},
   "outputs": [],
   "source": [
    "from sklearn.svm import SVC\n",
    "from sklearn.model_selection import StratifiedKFold\n",
    "\n",
    "#kf = StratifiedKFold(1, random_state=33)\n",
    "\n",
    "total_score = 0\n",
    "total_conf = 0\n",
    "\n",
    "C = 2**3\n",
    "gamma = 2**-1\n",
    "#for train,test in kf.split(dataset.train['hog'], dataset.train['labels']):\n",
    "svc = SVC(C=C, kernel='rbf', gamma=gamma, )\n",
    "train_x, mean, std = normalize(dataset.train['hog'][:14000])\n",
    "train_y = dataset.train['labels'][:14000]\n",
    "svc.fit(train_x, train_y)\n",
    "\n",
    "test_x = (dataset.train['hog'][14000:]-mean)/std\n",
    "test_y = dataset.train['labels'][14000:]\n",
    "accuracy, conf = evaluate_classifier(svc, test_x, test_y)\n",
    "\n",
    "total_score = total_score + accuracy\n",
    "total_conf = total_conf + conf"
   ]
  },
  {
   "cell_type": "code",
   "execution_count": 5,
   "metadata": {},
   "outputs": [
    {
     "data": {
      "text/plain": [
       "15000"
      ]
     },
     "execution_count": 5,
     "metadata": {},
     "output_type": "execute_result"
    }
   ],
   "source": []
  },
  {
   "cell_type": "code",
   "execution_count": 7,
   "metadata": {},
   "outputs": [
    {
     "name": "stdout",
     "output_type": "stream",
     "text": [
      "Validation accuracy: 6.42 %\n",
      "Confusion matrix:\n",
      "[[ 0.   0.   0. ]\n",
      " [69.8 64.2 66. ]\n",
      " [ 0.   0.   0. ]]\n"
     ]
    }
   ],
   "source": [
    "total_score = total_score/5\n",
    "total_conf = total_conf/5\n",
    "\n",
    "print(\"Validation accuracy: %.2f %%\"%total_score)\n",
    "print(\"Confusion matrix:\")\n",
    "print(total_conf)"
   ]
  },
  {
   "cell_type": "markdown",
   "metadata": {},
   "source": [
    "**Explore the classifier**. How many support vectors are there? What are support vectors?"
   ]
  },
  {
   "cell_type": "code",
   "execution_count": 10,
   "metadata": {},
   "outputs": [
    {
     "name": "stdout",
     "output_type": "stream",
     "text": [
      "256\n",
      "3\n"
     ]
    }
   ],
   "source": [
    "all_support_vectors = svc.support_vectors_ #Each line = 1 \"Support Vector\" ; 1024 columns forming a 32x32 image \n",
    "vectors_per_class = svc.n_support_ #Number of \"Support Vector\" for each class\n",
    "\n",
    "print(len(all_support_vectors[0]))\n",
    "print(len(vectors_per_class))\n"
   ]
  },
  {
   "cell_type": "markdown",
   "metadata": {},
   "source": [
    "**Try to find the best \"C\" (error penalty) and \"gamma\" parameters** using cross-validation. What influence does \"C\" have on the number of support vectors?"
   ]
  },
  {
   "cell_type": "code",
   "execution_count": 2,
   "metadata": {},
   "outputs": [],
   "source": [
    "from sklearn.svm import SVC\n",
    "from sklearn.model_selection import StratifiedKFold\n",
    "\n",
    "#kf = StratifiedKFold(1, random_state=33)\n",
    "\n",
    "total_score = {{}}\n",
    "total_conf = {{}}\n",
    "\n",
    "C = [2**10, 2**13, 2**14]\n",
    "GAMMA = [2**-1, 2**0, 2**1]\n",
    "for c in C:\n",
    "    for gamma in GAMMA:\n",
    "        #for train,test in kf.split(dataset.train['hog'], dataset.train['labels']):\n",
    "        svc = SVC(C=c, kernel='rbf', gamma=gamma )\n",
    "        train_x, mean, std = normalize(dataset.train['hog'][:14000])\n",
    "        train_y = dataset.train['labels'][:14000]\n",
    "        svc.fit(train_x, train_y)\n",
    "\n",
    "        test_x = (dataset.train['hog'][14000:]-mean)/std\n",
    "        test_y = dataset.train['labels'][14000:]\n",
    "        accuracy, conf = evaluate_classifier(svc, test_x, test_y)\n",
    "\n",
    "        total_score[c][gamma] = accuracy\n",
    "        total_conf[c][gamma] = conf\n",
    "    \n",
    "    "
   ]
  },
  {
   "cell_type": "code",
   "execution_count": 5,
   "metadata": {},
   "outputs": [
    {
     "name": "stdout",
     "output_type": "stream",
     "text": [
      "(100.0, array([[4651,    0,    0],\n",
      "       [   0, 4679,    0],\n",
      "       [   0,    0, 4670]], dtype=int64))\n"
     ]
    }
   ],
   "source": [
    "print(evaluate_classifier(svc, train_x, train_y))"
   ]
  },
  {
   "cell_type": "code",
   "execution_count": 14,
   "metadata": {},
   "outputs": [
    {
     "name": "stdout",
     "output_type": "stream",
     "text": [
      "(82.6, array([[310,  45,  14],\n",
      "       [ 29, 245,  45],\n",
      "       [ 10,  31, 271]], dtype=int64))\n"
     ]
    }
   ],
   "source": [
    "svc = SVC(C=1e5, kernel='rbf', gamma=1./256 )\n",
    "svc.fit(train_x,train_y)\n",
    "print(evaluate_classifier(svc,test_x,test_y))"
   ]
  },
  {
   "cell_type": "code",
   "execution_count": 4,
   "metadata": {
    "scrolled": false
   },
   "outputs": [
    {
     "name": "stdout",
     "output_type": "stream",
     "text": [
      "Validation accuracy for C value of 1024 : 32.10 %\n",
      "Confusion matrix for C value of 1024 :\n",
      "[[  0   0   0]\n",
      " [349 321 330]\n",
      " [  0   0   0]]\n",
      "Validation accuracy for C value of 8192 : 32.10 %\n",
      "Confusion matrix for C value of 8192 :\n",
      "[[  0   0   0]\n",
      " [349 321 330]\n",
      " [  0   0   0]]\n",
      "Validation accuracy for C value of 16384 : 32.10 %\n",
      "Confusion matrix for C value of 16384 :\n",
      "[[  0   0   0]\n",
      " [349 321 330]\n",
      " [  0   0   0]]\n"
     ]
    }
   ],
   "source": [
    "for key in total_score.keys():\n",
    "    print(\"Validation accuracy for C value of\", key, \": %.2f %%\"%total_score[key])\n",
    "    print(\"Confusion matrix for C value of\", key, \":\")\n",
    "    print(total_conf[key])"
   ]
  },
  {
   "cell_type": "markdown",
   "metadata": {},
   "source": [
    "**Retrain** your best parameters on all training data. Compare the results to the other classifiers."
   ]
  },
  {
   "cell_type": "code",
   "execution_count": 11,
   "metadata": {},
   "outputs": [
    {
     "data": {
      "text/plain": [
       "8"
      ]
     },
     "execution_count": 11,
     "metadata": {},
     "output_type": "execute_result"
    }
   ],
   "source": [
    "2**3"
   ]
  },
  {
   "cell_type": "code",
   "execution_count": null,
   "metadata": {},
   "outputs": [],
   "source": []
  }
 ],
 "metadata": {
  "anaconda-cloud": {},
  "kernelspec": {
   "display_name": "Python 3",
   "language": "python",
   "name": "python3"
  },
  "language_info": {
   "codemirror_mode": {
    "name": "ipython",
    "version": 3
   },
   "file_extension": ".py",
   "mimetype": "text/x-python",
   "name": "python",
   "nbconvert_exporter": "python",
   "pygments_lexer": "ipython3",
   "version": "3.7.0"
  }
 },
 "nbformat": 4,
 "nbformat_minor": 1
}
